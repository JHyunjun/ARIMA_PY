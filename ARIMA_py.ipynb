{
  "nbformat": 4,
  "nbformat_minor": 0,
  "metadata": {
    "colab": {
      "name": "ARIMA_py.ipynb",
      "private_outputs": true,
      "provenance": [],
      "collapsed_sections": [],
      "include_colab_link": true
    },
    "kernelspec": {
      "name": "python3",
      "display_name": "Python 3"
    },
    "language_info": {
      "name": "python"
    },
    "accelerator": "GPU"
  },
  "cells": [
    {
      "cell_type": "markdown",
      "metadata": {
        "id": "view-in-github",
        "colab_type": "text"
      },
      "source": [
        "<a href=\"https://colab.research.google.com/github/JHyunjun/ARIMA_PY/blob/main/ARIMA_py.ipynb\" target=\"_parent\"><img src=\"https://colab.research.google.com/assets/colab-badge.svg\" alt=\"Open In Colab\"/></a>"
      ]
    },
    {
      "cell_type": "code",
      "execution_count": null,
      "metadata": {
        "id": "44UfphRUC9Gb"
      },
      "outputs": [],
      "source": [
        "# Created by Hyunjun, JANG\n",
        "# limitsinx.tistory.com\n",
        "# q=0/p=1\n",
        "\n",
        "import numpy as np\n",
        "import pandas as pd\n",
        "import tensorflow as tf\n",
        "import pandas_datareader.data as pdr\n",
        "import matplotlib.pyplot as plt\n",
        "from statsmodels.graphics.tsaplots import plot_acf, plot_pacf\n",
        "import datetime\n",
        "from statsmodels.tsa.arima_model import ARIMA\n",
        "tf.random.set_seed(1)\n",
        "Prediction_ratio=0.8\n",
        "\n",
        "#Data Load\n",
        "df_train = pd.read_csv('dir')\n",
        "df_test = pd.read_csv('/dir')\n",
        "\n",
        "train_len = len(train_data) * Prediction_ratio\n",
        "test_len = len(test_data) * (1 - Prediction_ratio)\n",
        "\n",
        "train_data = df_train.iloc[:int(train_len),-1]\n",
        "test_data = df_train.iloc[int(train_len):,-1]\n",
        "\n",
        "plot_acf(train_data)\n",
        "plot_pacf(train_data)\n",
        "plt.show()\n",
        "\n",
        "model = ARIMA(train_data, order = (1,0,1))\n",
        "model_fit = model.fit(trend = 'c', full_output = True, disp = 1 )\n",
        "print(model_fit.summary())\n",
        "\n",
        "model_fit.plot_predict()\n",
        "\n",
        "fore = model_fit.forecast(steps = 1000)\n",
        "print(fore)"
      ]
    },
    {
      "cell_type": "code",
      "source": [
        ""
      ],
      "metadata": {
        "id": "ER0Oi3QRmwtg"
      },
      "execution_count": null,
      "outputs": []
    },
    {
      "cell_type": "code",
      "source": [
        "from google.colab import drive\n",
        "drive.mount('/content/drive')"
      ],
      "metadata": {
        "id": "mD57-bkPxQ2B"
      },
      "execution_count": null,
      "outputs": []
    }
  ]
}